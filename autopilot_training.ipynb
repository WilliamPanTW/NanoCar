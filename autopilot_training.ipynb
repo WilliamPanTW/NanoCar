{
 "cells": [
  {
   "attachments": {},
   "cell_type": "markdown",
   "metadata": {},
   "source": [
    "### GPU"
   ]
  },
  {
   "cell_type": "code",
   "execution_count": 1,
   "metadata": {},
   "outputs": [],
   "source": [
    "import os\n",
    "os.environ[\"CUDA_DEVICE_ORDER\"]=\"PCI_BUS_ID\"\n",
    "os.environ[\"CUDA_VISIBLE_DEVICES\"]=\"1\""
   ]
  },
  {
   "attachments": {},
   "cell_type": "markdown",
   "metadata": {},
   "source": [
    "### IMPORTS"
   ]
  },
  {
   "cell_type": "code",
   "execution_count": 2,
   "metadata": {},
   "outputs": [],
   "source": [
    "import torch\n",
    "import torchvision\n",
    "import PIL\n",
    "from tqdm import tqdm\n",
    "from sklearn.metrics import mean_squared_error\n",
    "from IPython.display import display\n",
    "import matplotlib\n",
    "import matplotlib.pyplot as plt\n",
    "import numpy as np\n",
    "\n",
    "from autopilot_dataset import AutopilotDataset\n",
    "from autopilot_model import AutopilotModel\n",
    "from autopilot_utils import preprocess_image"
   ]
  },
  {
   "attachments": {},
   "cell_type": "markdown",
   "metadata": {},
   "source": [
    "<br>\n",
    "\n",
    "### HYPERPARAMETERS"
   ]
  },
  {
   "cell_type": "code",
   "execution_count": 3,
   "metadata": {},
   "outputs": [],
   "source": [
    "BATCH_SIZE = 128\n",
    "MAX_EPOCHS = 50\n",
    "EARLY_STOPPING_PATIENCE = 10\n",
    "\n",
    "INITIAL_LR = 0.0005\n",
    "LR_REDUCER_PATIENCE = 2\n",
    "LR_REDUCER_FACTOR = 0.9\n",
    "\n",
    "ACCEPTABLE_TESTING_LOSS = 0.1\n",
    "\n",
    "FRAME_SIZE = 224\n",
    "\n",
    "MODELS_DIR = \"/home/greg/models/jetson/\"\n",
    "DATASETS_DIR = \"/home/greg/datasets/jetson/\"\n",
    "\n",
    "VERSION = \"2_16\"\n",
    "\n",
    "MODEL_PATH = MODELS_DIR + VERSION + \"_resnet18\" + \".pth\"\n",
    "TRAINING_DATASET = DATASETS_DIR + \"training/\"\n",
    "VALIDATION_DATASET = DATASETS_DIR + \"validation/\"\n",
    "TESTING_DATASET = DATASETS_DIR + \"testing/\""
   ]
  },
  {
   "attachments": {},
   "cell_type": "markdown",
   "metadata": {},
   "source": [
    "<br>\n",
    "\n",
    "### DATA"
   ]
  },
  {
   "cell_type": "code",
   "execution_count": null,
   "metadata": {},
   "outputs": [],
   "source": [
    "training_dataset = AutopilotDataset(TRAINING_DATASET,\n",
    "                                    FRAME_SIZE,\n",
    "                                    random_horizontal_flip=True,\n",
    "                                    random_noise=True,\n",
    "                                    random_blur=True,\n",
    "                                    random_color_jitter=True,\n",
    "                                    keep_images_in_ram=True)\n",
    "training_loader = torch.utils.data.DataLoader(training_dataset,\n",
    "                                              batch_size=BATCH_SIZE,\n",
    "                                              shuffle=True)\n",
    "\n",
    "validation_dataset = AutopilotDataset(VALIDATION_DATASET,\n",
    "                                      FRAME_SIZE,\n",
    "                                      random_horizontal_flip=False,\n",
    "                                      random_noise=False,\n",
    "                                      random_blur=False,\n",
    "                                      random_color_jitter=False,\n",
    "                                      keep_images_in_ram=True)\n",
    "validation_loader = torch.utils.data.DataLoader(validation_dataset,\n",
    "                                                batch_size=BATCH_SIZE,\n",
    "                                                shuffle=True)\n",
    "\n",
    "testing_dataset = AutopilotDataset(TESTING_DATASET,\n",
    "                                   FRAME_SIZE,\n",
    "                                   random_horizontal_flip=False,\n",
    "                                   random_noise=False,\n",
    "                                   random_blur=False,\n",
    "                                   random_color_jitter=False,\n",
    "                                   keep_images_in_ram=True)\n",
    "testing_loader = torch.utils.data.DataLoader(testing_dataset,\n",
    "                                                batch_size=1,\n",
    "                                                shuffle=False)"
   ]
  },
  {
   "attachments": {},
   "cell_type": "markdown",
   "metadata": {},
   "source": [
    "<br>\n",
    "\n",
    "### MODEL"
   ]
  },
  {
   "cell_type": "code",
   "execution_count": 5,
   "metadata": {
    "scrolled": false
   },
   "outputs": [],
   "source": [
    "model = AutopilotModel(pretrained=True)\n",
    "optimizer = torch.optim.Adam(model.parameters(), lr=INITIAL_LR)\n",
    "scheduler = torch.optim.lr_scheduler.ReduceLROnPlateau(optimizer,\n",
    "                                                       'min',\n",
    "                                                       patience=LR_REDUCER_PATIENCE,\n",
    "                                                       factor=LR_REDUCER_FACTOR,\n",
    "                                                       verbose=True)  \n",
    "loss_function = torch.nn.MSELoss()"
   ]
  },
  {
   "attachments": {},
   "cell_type": "markdown",
   "metadata": {},
   "source": [
    "<br>\n",
    "\n",
    "### TRAINING"
   ]
  },
  {
   "cell_type": "code",
   "execution_count": null,
   "metadata": {
    "scrolled": false
   },
   "outputs": [],
   "source": [
    "training_losses = []\n",
    "validation_losses = []\n",
    "epochs_without_improvement = 0\n",
    "\n",
    "def plot_losses():\n",
    "    fig, ax = plt.subplots()\n",
    "    ax.plot([x for x in range(len(training_losses))], training_losses, label='training_loss')\n",
    "    ax.plot([x for x in range(len(validation_losses))], validation_losses, label='validation_loss')\n",
    "    ax.set(xlabel='epochs', ylabel='loss', title='Training Progress')\n",
    "    ax.grid()\n",
    "    plt.legend()\n",
    "    plt.show()\n",
    "    \n",
    "def run_epoch(tepoch, name, training):\n",
    "    epoch_loss = 0.0\n",
    "    iterations = 0\n",
    "    \n",
    "    for _, images, annotations in tepoch:\n",
    "        tepoch.set_description(f\"{name} Epoch {epoch}\")\n",
    "\n",
    "        images = images.cuda()\n",
    "        annotations = annotations.cuda()\n",
    "        \n",
    "        if training:\n",
    "            optimizer.zero_grad()\n",
    "            model.train()\n",
    "            outputs = model(images)\n",
    "        else:\n",
    "            with torch.no_grad():\n",
    "                model.eval()\n",
    "                outputs = model(images)\n",
    "        \n",
    "        loss = loss_function(outputs, annotations)\n",
    "        \n",
    "        if training:\n",
    "            loss.backward()\n",
    "            optimizer.step()\n",
    "\n",
    "        epoch_loss += loss.item()\n",
    "        iterations += 1\n",
    "        \n",
    "    return float(epoch_loss/iterations)\n",
    "\n",
    "for epoch in range(MAX_EPOCHS):\n",
    "    with tqdm(training_loader, unit=\"batch\") as training_epoch:\n",
    "        avg_training_loss = run_epoch(training_epoch, \"Training\", training=True)\n",
    "        training_losses.append(avg_training_loss)\n",
    "    \n",
    "    with tqdm(validation_loader, unit=\"batch\") as validation_epoch:\n",
    "        avg_validation_loss = run_epoch(validation_epoch, \"Validation\", training=False)\n",
    "        scheduler.step(avg_validation_loss)\n",
    "        validation_losses.append(avg_validation_loss)\n",
    "        \n",
    "        if avg_validation_loss <= np.min(validation_losses):\n",
    "            epochs_without_improvement = 0\n",
    "            print(\"validation loss decreased to \" + str(avg_validation_loss) + \", saving model\")\n",
    "            model.save_to_path(MODEL_PATH)\n",
    "        else:\n",
    "            epochs_without_improvement += 1\n",
    "            if epochs_without_improvement >= EARLY_STOPPING_PATIENCE:\n",
    "                print(\"validation loss of \" + str(np.min(validation_losses)) + \" hasn't improved in last \" + str(EARLY_STOPPING_PATIENCE) + \" epochs, stopping training\")\n",
    "                break\n",
    "        \n",
    "    plot_losses()"
   ]
  },
  {
   "attachments": {},
   "cell_type": "markdown",
   "metadata": {},
   "source": [
    "<br>\n",
    "\n",
    "### TESTING"
   ]
  },
  {
   "cell_type": "code",
   "execution_count": null,
   "metadata": {
    "scrolled": false
   },
   "outputs": [],
   "source": [
    "model.load_from_path(MODEL_PATH)\n",
    "\n",
    "results = []\n",
    "losses = []\n",
    "with torch.no_grad():\n",
    "    model.eval()\n",
    "    \n",
    "    for name, image, annotation in testing_loader:\n",
    "        prediction = model(image.cuda()).clamp(min=-1, max=1)\n",
    "        loss = round(float(loss_function(prediction, annotation.cuda()).cpu()), 4)\n",
    "        passed = loss < ACCEPTABLE_TESTING_LOSS\n",
    "        losses.append(loss)\n",
    "        results.append(passed)\n",
    "               \n",
    "        composed_transforms = torchvision.transforms.Compose([\n",
    "            torchvision.transforms.Normalize([-0.485/0.229, -0.456/0.224, -0.406/0.225], [1/0.229, 1/0.224, 1/0.225]),\n",
    "            torchvision.transforms.ToPILImage()\n",
    "        ])\n",
    "        image = composed_transforms(image[0])\n",
    "        image = image.convert(\"RGB\")\n",
    "        display(image)\n",
    "        \n",
    "        print(name[0])\n",
    "        print(\"expected: \"+str(annotation.float()[0]))\n",
    "        print(\"predicted: \"+str(prediction.cpu().float()[0]))\n",
    "        print(\"loss: \"+str(loss))\n",
    "        print(\"passed: \"+str(passed))\n",
    "        print(\"\")\n",
    "\n",
    "print(\"SCORE: \"+str(len([x for x in results if x]))+\"/\"+str(len(results))+\", AVG LOSS: \"+str(round(np.mean(losses), 4)))    "
   ]
  },
  {
   "cell_type": "code",
   "execution_count": null,
   "metadata": {},
   "outputs": [],
   "source": []
  }
 ],
 "metadata": {
  "kernelspec": {
   "display_name": "Python 3",
   "language": "python",
   "name": "python3"
  },
  "language_info": {
   "codemirror_mode": {
    "name": "ipython",
    "version": 3
   },
   "file_extension": ".py",
   "mimetype": "text/x-python",
   "name": "python",
   "nbconvert_exporter": "python",
   "pygments_lexer": "ipython3",
   "version": "3.6.9"
  }
 },
 "nbformat": 4,
 "nbformat_minor": 4
}
