{
 "cells": [
  {
   "attachments": {},
   "cell_type": "markdown",
   "metadata": {},
   "source": [
    "### IMPORTS"
   ]
  },
  {
   "cell_type": "code",
   "execution_count": 1,
   "metadata": {},
   "outputs": [],
   "source": [
    "import ipywidgets\n",
    "import cv2\n",
    "from IPython.display import display\n",
    "from jetracer.nvidia_racecar import NvidiaRacecar\n",
    "from jetcam.csi_camera import CSICamera\n",
    "import traitlets\n",
    "import time\n",
    "import shutil\n",
    "import os\n",
    "import pandas as pd\n",
    "import numpy as np"
   ]
  },
  {
   "attachments": {},
   "cell_type": "markdown",
   "metadata": {},
   "source": [
    "<br>\n",
    "\n",
    "### HYPERPARAMETERS"
   ]
  },
  {
   "cell_type": "code",
   "execution_count": 2,
   "metadata": {},
   "outputs": [],
   "source": [
    "# 小车控制的油门增益\n",
    "STEERING_OFFSET = 0.035\n",
    "THROTTLE_GAIN = 0.7\n",
    "\n",
    "# 摄像头高度跟宽度\n",
    "CAMERA_WIDTH = 448\n",
    "CAMERA_HEIGHT = 336\n",
    "\n",
    "# 帧率跟是否显示相机提要预览\n",
    "FPS = 10\n",
    "SHOW_CAMERA_PREVIEW = False\n",
    "\n",
    "# 存储数据集的目录路径\n",
    "#需換路徑 \"datasets/\"\n",
    "DATASETS_DIR = \"/home/greg/datasets/\"\n",
    "# 临时数据集的目录路径\n",
    "TMP_DATASET_DIR = DATASETS_DIR + \"tmp/\"\n",
    "# 注释文件的文件名\n",
    "ANNOTATIONS_FILE = \"annotations.csv\"\n",
    "# 临时数据集\n",
    "TMP_ANNOTATIONS = TMP_DATASET_DIR + ANNOTATIONS_FILE\n",
    "\n",
    "# 数据集的模式\n",
    "DATASET_MODE = \"training\"\n",
    "\n",
    "DATASET_NAME = \"3\"\n",
    "# 主数据库目录路径\n",
    "MAIN_DATASET_DIR = DATASETS_DIR + DATASET_NAME + \"_\" + DATASET_MODE + \"/\"\n",
    "# 主要注释文件的路径\n",
    "MAIN_ANNOTATIONS = MAIN_DATASET_DIR + ANNOTATIONS_FILE"
   ]
  },
  {
   "attachments": {},
   "cell_type": "markdown",
   "metadata": {},
   "source": [
    "<br>\n",
    "\n",
    "### DATA COLLECTION"
   ]
  },
  {
   "cell_type": "code",
   "execution_count": 3,
   "metadata": {},
   "outputs": [],
   "source": [
    "#该函数的作用是重置临时数据集目录\n",
    "def reset_temp_dataset_dir():\n",
    "    #判断临时数据集目录是否存在\n",
    "    if not os.path.exists(TMP_DATASET_DIR):\n",
    "        #如果不存在，则使用创建该目录\n",
    "        os.makedirs(TMP_DATASET_DIR)\n",
    "    else:\n",
    "        #如果临时数据集目录已经存在，则先删除该目录及其所有内容\n",
    "        shutil.rmtree(TMP_DATASET_DIR)\n",
    "        #然后再次创建一个空的临时数据集目录\n",
    "        os.makedirs(TMP_DATASET_DIR)\n",
    "\n",
    "#通过调用reset_temp_dataset_dir()函数，执行重置临时数据集目录\n",
    "reset_temp_dataset_dir()\n",
    "\n",
    "#判断主数据集目录是否存在。如果主数据集目录不存在，则使用创建该目录\n",
    "if not os.path.exists(MAIN_DATASET_DIR):\n",
    "    os.makedirs(MAIN_DATASET_DIR)"
   ]
  },
  {
   "cell_type": "code",
   "execution_count": 4,
   "metadata": {},
   "outputs": [],
   "source": [
    "# 函数用作于开始录制数据\n",
    "def start_recording():\n",
    "    # 用于重置临时数据集目录，以确保准备一个新的录制会话 \n",
    "    reset_temp_dataset_dir()\n",
    "\n",
    "   \n",
    "# 用于保存录制的数据\n",
    "def save_recording():\n",
    "    for file in os.listdir(TMP_DATASET_DIR):\n",
    "        if file.endswith('.csv'):\n",
    "            # 检查主注释文件 MAIN_ANNOTATIONS 是否存在，且不是空的\n",
    "            if os.path.exists(MAIN_ANNOTATIONS) and os.stat(MAIN_ANNOTATIONS).st_size > 0:\n",
    "                # 打开主注释文件 MAIN_ANNOTATIONS\n",
    "                with open(MAIN_ANNOTATIONS, 'a') as main:\n",
    "                    # 打开时注释文件 TMP_ANNOTATIONS\n",
    "                    with open(TMP_ANNOTATIONS) as tmp:\n",
    "                        # 将临时注释文件中的每一行内容追加到主注释文件中\n",
    "                        for line in tmp:\n",
    "                            main.write(line)\n",
    "                        # 关闭临时注释文件\n",
    "                        tmp.close()\n",
    "                    # 关闭主注释文件\n",
    "                    main.close()\n",
    "                #跳过将文件移动到主数据集目录\n",
    "                continue\n",
    "        #函数将文件从临时数据集目录移动到主数据集目录\n",
    "        shutil.move(TMP_DATASET_DIR+file, MAIN_DATASET_DIR+file)\n",
    "    #重置临时数据集目录，以准备进行下一次录制\n",
    "    reset_temp_dataset_dir()"
   ]
  },
  {
   "attachments": {},
   "cell_type": "markdown",
   "metadata": {},
   "source": [
    "<br>\n",
    "\n",
    "### CAR CONTROLLER"
   ]
  },
  {
   "cell_type": "code",
   "execution_count": 5,
   "metadata": {},
   "outputs": [],
   "source": [
    "# 创建Nvidia Race car 类的实例car\n",
    "car = NvidiaRacecar()\n",
    "# 设置car的(油门增益)throttle_gain属性\n",
    "car.throttle_gain = THROTTLE_GAIN\n",
    "# 设置car的(方向盘偏移量)steering_offset属性\n",
    "car.steering_offset = STEERING_OFFSET"
   ]
  },
  {
   "cell_type": "code",
   "execution_count": null,
   "metadata": {},
   "outputs": [],
   "source": [
    " # 创建控制器小部件\n",
    "controller = ipywidgets.widgets.Controller(index=0)\n",
    "# 显示控制器小部件\n",
    "display(controller)\n",
    "# 暂停1秒, 可改变暂时时间\n",
    "time.sleep(1.0)"
   ]
  },
  {
   "cell_type": "code",
   "execution_count": 9,
   "metadata": {},
   "outputs": [],
   "source": [
    "# 定义clamp function用于将值限制在给定的范围内\n",
    "def clamp(value, val_min=-1.0, val_max=1.0):\n",
    "    return min(val_max, max(val_min, value))\n",
    "\n",
    "# 定义is_valid_press function，用于判断游戏手柄按钮event是否为有效的按下的event\n",
    "def is_valid_press(x):\n",
    "    return x['name'] == 'pressed' and x['new']\n",
    "\n",
    "# Specific to Gamepad Mode 2 # 特定于游戏手柄模式2 \n",
    "\n",
    "# 函数建立了与游戏手柄的连接，并创建控制器的方向盘轴值与car的转向属性之间的关联\n",
    "steering_link = traitlets.dlink((controller.axes[2], 'value'), (car, 'steering'), transform=lambda x: clamp(-x))\n",
    "# 函数建立了与游戏手柄的连接，并创建控制器的油门轴值与car的油门属性之间的关联\n",
    "throttle_link = traitlets.dlink((controller.axes[1], 'value'), (car, 'throttle'), transform=lambda x: clamp(x))\n",
    "\n",
    "# 函数建立了与游戏手柄的连接，并创建控制器的刹车按钮值与car的油门属性之间的关联\n",
    "brake_throttle_link = traitlets.dlink((controller.buttons[7], 'value'), (car, 'throttle'), transform=lambda x: 0.0)\n",
    "#函数建立了与游戏手柄的连接，并创建控制器的半油门按钮值与car的油门属性之间的关联\n",
    "half_throttle_link = traitlets.dlink((controller.buttons[5], 'value'), (car, 'throttle'), transform=lambda x: -0.5 if x > 0.5 else 0)\n",
    "\n",
    "# 当控制器上的特定按钮被按下时调用start_recording() function开始录制\n",
    "controller.buttons[2].observe(lambda x: start_recording() if is_valid_press(x) else ())\n",
    "# 当控制器上的特定按钮被按下时调用save_recording() function开始保存录制内容\n",
    "controller.buttons[1].observe(lambda x: save_recording() if is_valid_press(x) else ())"
   ]
  },
  {
   "attachments": {},
   "cell_type": "markdown",
   "metadata": {},
   "source": [
    "<br>\n",
    "\n",
    "### CAMERA"
   ]
  },
  {
   "cell_type": "code",
   "execution_count": 10,
   "metadata": {},
   "outputs": [],
   "source": [
    "# 创建了一个 CSICamera 类的实例 camera，用于获取摄像头图像\n",
    "camera = CSICamera(width=CAMERA_WIDTH, height=CAMERA_HEIGHT, capture_fps=FPS)\n",
    "# 启动摄像头\n",
    "camera.running = True"
   ]
  },
  {
   "cell_type": "code",
   "execution_count": 11,
   "metadata": {},
   "outputs": [],
   "source": [
    "# 定义函数以保存带有注释的相机帧\n",
    "def save_annotated_camera_frame(frame):\n",
    "    timestamp = str(int(time.time()*1000))\n",
    "    encoded_image = cv2.imencode('.jpg', frame)[1]\n",
    "    \n",
    "    # 保存相机帧的函数\n",
    "    def save_camera_frame():\n",
    "        cv2.imwrite(TMP_DATASET_DIR+timestamp+\".jpg\", frame)\n",
    "\n",
    "    # 保存时间戳、汽车的转向和油门值以特定的格式的函数    \n",
    "    def save_annotation():\n",
    "        with open(TMP_ANNOTATIONS, 'a') as f: \n",
    "            f.write(timestamp + \", \" + str(round(car.steering, 2)) + \", \" + str(round(car.throttle, 2)) + \"\\n\")\n",
    "            f.close()\n",
    "    \n",
    "    # 调用保存相机帧到临时数据集目录\n",
    "    save_camera_frame()\n",
    "    # 调用保存注释到临时注释文件\n",
    "    save_annotation()\n",
    "    \n",
    "    #将帧图像编码为 JPEG 格式的图像\n",
    "    encoded_image = cv2.imencode('.jpg',frame)[1]\n",
    "    #将图像数据转换为字节类型然后返回\n",
    "    return bytes(encoded_image)"
   ]
  },
  {
   "cell_type": "code",
   "execution_count": 12,
   "metadata": {},
   "outputs": [],
   "source": [
    "#创建一个 ipywidgets.Image 对象，并设置图像的格式为 JPEG\n",
    "image = ipywidgets.Image(format='jpeg')\n",
    "#如果调用到SHOW_CAMERA_PREVIEW 就会将图像显示出来\n",
    "if SHOW_CAMERA_PREVIEW:\n",
    "    display(image)"
   ]
  },
  {
   "cell_type": "code",
   "execution_count": 13,
   "metadata": {},
   "outputs": [],
   "source": [
    "# 创建相机和图像之间的关联，并通过save_annotated_camera_frame函数进行转换和保存\n",
    "camera_link = traitlets.dlink((camera, 'value'), (image, 'value'), transform=save_annotated_camera_frame)"
   ]
  }
 ],
 "metadata": {
  "kernelspec": {
   "display_name": "Python 3",
   "language": "python",
   "name": "python3"
  },
  "language_info": {
   "codemirror_mode": {
    "name": "ipython",
    "version": 3
   },
   "file_extension": ".py",
   "mimetype": "text/x-python",
   "name": "python",
   "nbconvert_exporter": "python",
   "pygments_lexer": "ipython3",
   "version": "3.6.9"
  }
 },
 "nbformat": 4,
 "nbformat_minor": 4
}
